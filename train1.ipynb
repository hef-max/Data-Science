{
 "cells": [
  {
   "cell_type": "code",
   "execution_count": 1,
   "metadata": {},
   "outputs": [],
   "source": [
    "#Nama   : Hefri Anesti Purnama\n",
    "#NIM    : 5210411178\n",
    "\n",
    "import pandas as pd\n",
    "import matplotlib.pyplot as plt \n",
    "import math\n",
    "\n",
    "df = pd.read_excel('../DataClass_.xlsx')\n"
   ]
  },
  {
   "cell_type": "markdown",
   "metadata": {},
   "source": [
    "<h1>USIA</h1>"
   ]
  },
  {
   "cell_type": "code",
   "execution_count": 2,
   "metadata": {},
   "outputs": [
    {
     "name": "stdout",
     "output_type": "stream",
     "text": [
      "range =  20\n",
      "k =  10.88591650272817 ~ 11\n",
      "p =  1.837236212034853 ~ 2\n"
     ]
    }
   ],
   "source": [
    "min = 38\n",
    "max = 58\n",
    "range = max - min\n",
    "k = 1 + 3.3 * math.log(range)\n",
    "p = range/k\n",
    "\n",
    "print(\"range = \", range)\n",
    "print(\"k = \", k,\"~\", round(k))\n",
    "print(\"p = \", p, \"~\", round(p))"
   ]
  },
  {
   "cell_type": "code",
   "execution_count": 3,
   "metadata": {},
   "outputs": [
    {
     "data": {
      "text/html": [
       "<div>\n",
       "<style scoped>\n",
       "    .dataframe tbody tr th:only-of-type {\n",
       "        vertical-align: middle;\n",
       "    }\n",
       "\n",
       "    .dataframe tbody tr th {\n",
       "        vertical-align: top;\n",
       "    }\n",
       "\n",
       "    .dataframe thead th {\n",
       "        text-align: right;\n",
       "    }\n",
       "</style>\n",
       "<table border=\"1\" class=\"dataframe\">\n",
       "  <thead>\n",
       "    <tr style=\"text-align: right;\">\n",
       "      <th></th>\n",
       "      <th>Kelas</th>\n",
       "      <th>Frekuensi</th>\n",
       "      <th>FR</th>\n",
       "      <th>FK</th>\n",
       "      <th>FRK</th>\n",
       "      <th>Batas kelas</th>\n",
       "    </tr>\n",
       "  </thead>\n",
       "  <tbody>\n",
       "    <tr>\n",
       "      <th>0</th>\n",
       "      <td>38-40</td>\n",
       "      <td>4</td>\n",
       "      <td>10.53</td>\n",
       "      <td>4</td>\n",
       "      <td>11.0</td>\n",
       "      <td>40.5</td>\n",
       "    </tr>\n",
       "    <tr>\n",
       "      <th>1</th>\n",
       "      <td>41-43</td>\n",
       "      <td>3</td>\n",
       "      <td>7.89</td>\n",
       "      <td>7</td>\n",
       "      <td>18.0</td>\n",
       "      <td>43.5</td>\n",
       "    </tr>\n",
       "    <tr>\n",
       "      <th>2</th>\n",
       "      <td>44-46</td>\n",
       "      <td>12</td>\n",
       "      <td>31.58</td>\n",
       "      <td>19</td>\n",
       "      <td>50.0</td>\n",
       "      <td>46.5</td>\n",
       "    </tr>\n",
       "    <tr>\n",
       "      <th>3</th>\n",
       "      <td>47-49</td>\n",
       "      <td>7</td>\n",
       "      <td>18.42</td>\n",
       "      <td>26</td>\n",
       "      <td>68.0</td>\n",
       "      <td>49.5</td>\n",
       "    </tr>\n",
       "    <tr>\n",
       "      <th>4</th>\n",
       "      <td>50-52</td>\n",
       "      <td>9</td>\n",
       "      <td>23.68</td>\n",
       "      <td>35</td>\n",
       "      <td>92.0</td>\n",
       "      <td>52.5</td>\n",
       "    </tr>\n",
       "    <tr>\n",
       "      <th>5</th>\n",
       "      <td>53-55</td>\n",
       "      <td>0</td>\n",
       "      <td>0.00</td>\n",
       "      <td>35</td>\n",
       "      <td>92.0</td>\n",
       "      <td>55.5</td>\n",
       "    </tr>\n",
       "    <tr>\n",
       "      <th>6</th>\n",
       "      <td>56-58</td>\n",
       "      <td>3</td>\n",
       "      <td>7.89</td>\n",
       "      <td>38</td>\n",
       "      <td>100.0</td>\n",
       "      <td>59.5</td>\n",
       "    </tr>\n",
       "  </tbody>\n",
       "</table>\n",
       "</div>"
      ],
      "text/plain": [
       "   Kelas  Frekuensi     FR  FK    FRK  Batas kelas\n",
       "0  38-40          4  10.53   4   11.0         40.5\n",
       "1  41-43          3   7.89   7   18.0         43.5\n",
       "2  44-46         12  31.58  19   50.0         46.5\n",
       "3  47-49          7  18.42  26   68.0         49.5\n",
       "4  50-52          9  23.68  35   92.0         52.5\n",
       "5  53-55          0   0.00  35   92.0         55.5\n",
       "6  56-58          3   7.89  38  100.0         59.5"
      ]
     },
     "execution_count": 3,
     "metadata": {},
     "output_type": "execute_result"
    }
   ],
   "source": [
    "#usia\n",
    "data = df[['Kelas', 'Frekuensi', 'FR', 'FK', 'FRK']]\n",
    "data = data.iloc[0:7]\n",
    "data['Frekuensi'] = pd.Series([4, 3, 12, 7, 9, 0, 3])\n",
    "data['FR'] = round(data['Frekuensi']/sum(data['Frekuensi']) * 100, 2)\n",
    "data['FK'] = pd.Series([4, 7, 19, 26, 35, 35, 38])\n",
    "data['FRK'] = round(data['FK']/sum(data['Frekuensi']) * 100)\n",
    "data['Batas kelas'] = pd.Series([40.5, 43.5, 46.5, 49.5, 52.5, 55.5, 59.5])\n",
    "data"
   ]
  },
  {
   "cell_type": "code",
   "execution_count": 4,
   "metadata": {},
   "outputs": [
    {
     "data": {
      "image/png": "[encoded data removed]",
      "text/plain": [
       "<Figure size 432x288 with 1 Axes>"
      ]
     },
     "metadata": {
      "needs_background": "light"
     },
     "output_type": "display_data"
    }
   ],
   "source": [
    "x = data['Batas kelas']\n",
    "y = data['FK']\n",
    "plt.title('Usia ortu kelas IF D')\n",
    "plt.xlabel('Batas kelas')\n",
    "plt.ylabel('Frekuensi meningkat')\n",
    "plt.plot(x,y, marker='o', linestyle='-')\n",
    "plt.show()"
   ]
  },
  {
   "cell_type": "markdown",
   "metadata": {},
   "source": [
    "<h1>TB</h1>"
   ]
  },
  {
   "cell_type": "code",
   "execution_count": 5,
   "metadata": {},
   "outputs": [
    {
     "name": "stdout",
     "output_type": "stream",
     "text": [
      "range =  35\n",
      "k =  12.732648602915065 ~ 13\n",
      "p =  2.7488389173001253 ~ 3\n"
     ]
    }
   ],
   "source": [
    "min = 145\n",
    "max = 180\n",
    "range = max - min\n",
    "k = 1 + 3.3 * math.log(range)\n",
    "p = range/k\n",
    "\n",
    "print(\"range = \", range)\n",
    "print(\"k = \", k,\"~\", round(k))\n",
    "print(\"p = \", p, \"~\", round(p))"
   ]
  },
  {
   "cell_type": "code",
   "execution_count": 6,
   "metadata": {},
   "outputs": [
    {
     "data": {
      "text/html": [
       "<div>\n",
       "<style scoped>\n",
       "    .dataframe tbody tr th:only-of-type {\n",
       "        vertical-align: middle;\n",
       "    }\n",
       "\n",
       "    .dataframe tbody tr th {\n",
       "        vertical-align: top;\n",
       "    }\n",
       "\n",
       "    .dataframe thead th {\n",
       "        text-align: right;\n",
       "    }\n",
       "</style>\n",
       "<table border=\"1\" class=\"dataframe\">\n",
       "  <thead>\n",
       "    <tr style=\"text-align: right;\">\n",
       "      <th></th>\n",
       "      <th>Tinggi Badan</th>\n",
       "      <th>Frekuensi</th>\n",
       "      <th>FR</th>\n",
       "      <th>FK</th>\n",
       "      <th>FRK</th>\n",
       "      <th>Batas kelas</th>\n",
       "    </tr>\n",
       "  </thead>\n",
       "  <tbody>\n",
       "    <tr>\n",
       "      <th>0</th>\n",
       "      <td>145-148</td>\n",
       "      <td>1</td>\n",
       "      <td>2.63</td>\n",
       "      <td>1</td>\n",
       "      <td>3.0</td>\n",
       "      <td>148.5</td>\n",
       "    </tr>\n",
       "    <tr>\n",
       "      <th>1</th>\n",
       "      <td>149-152</td>\n",
       "      <td>1</td>\n",
       "      <td>2.63</td>\n",
       "      <td>2</td>\n",
       "      <td>5.0</td>\n",
       "      <td>152.5</td>\n",
       "    </tr>\n",
       "    <tr>\n",
       "      <th>2</th>\n",
       "      <td>153-156</td>\n",
       "      <td>6</td>\n",
       "      <td>15.79</td>\n",
       "      <td>8</td>\n",
       "      <td>21.0</td>\n",
       "      <td>156.5</td>\n",
       "    </tr>\n",
       "    <tr>\n",
       "      <th>3</th>\n",
       "      <td>157-160</td>\n",
       "      <td>14</td>\n",
       "      <td>36.84</td>\n",
       "      <td>22</td>\n",
       "      <td>58.0</td>\n",
       "      <td>160.5</td>\n",
       "    </tr>\n",
       "    <tr>\n",
       "      <th>4</th>\n",
       "      <td>161-164</td>\n",
       "      <td>4</td>\n",
       "      <td>10.53</td>\n",
       "      <td>26</td>\n",
       "      <td>68.0</td>\n",
       "      <td>164.5</td>\n",
       "    </tr>\n",
       "    <tr>\n",
       "      <th>5</th>\n",
       "      <td>165-168</td>\n",
       "      <td>5</td>\n",
       "      <td>13.16</td>\n",
       "      <td>31</td>\n",
       "      <td>82.0</td>\n",
       "      <td>168.5</td>\n",
       "    </tr>\n",
       "    <tr>\n",
       "      <th>6</th>\n",
       "      <td>169-172</td>\n",
       "      <td>4</td>\n",
       "      <td>10.53</td>\n",
       "      <td>35</td>\n",
       "      <td>92.0</td>\n",
       "      <td>172.5</td>\n",
       "    </tr>\n",
       "    <tr>\n",
       "      <th>7</th>\n",
       "      <td>173-176</td>\n",
       "      <td>2</td>\n",
       "      <td>5.26</td>\n",
       "      <td>37</td>\n",
       "      <td>97.0</td>\n",
       "      <td>176.5</td>\n",
       "    </tr>\n",
       "    <tr>\n",
       "      <th>8</th>\n",
       "      <td>177-180</td>\n",
       "      <td>1</td>\n",
       "      <td>2.63</td>\n",
       "      <td>38</td>\n",
       "      <td>100.0</td>\n",
       "      <td>180.5</td>\n",
       "    </tr>\n",
       "  </tbody>\n",
       "</table>\n",
       "</div>"
      ],
      "text/plain": [
       "  Tinggi Badan  Frekuensi     FR  FK    FRK  Batas kelas\n",
       "0      145-148          1   2.63   1    3.0        148.5\n",
       "1      149-152          1   2.63   2    5.0        152.5\n",
       "2      153-156          6  15.79   8   21.0        156.5\n",
       "3      157-160         14  36.84  22   58.0        160.5\n",
       "4      161-164          4  10.53  26   68.0        164.5\n",
       "5      165-168          5  13.16  31   82.0        168.5\n",
       "6      169-172          4  10.53  35   92.0        172.5\n",
       "7      173-176          2   5.26  37   97.0        176.5\n",
       "8      177-180          1   2.63  38  100.0        180.5"
      ]
     },
     "execution_count": 6,
     "metadata": {},
     "output_type": "execute_result"
    }
   ],
   "source": [
    "dataTB = df[['Tinggi Badan', 'Frekuensi', 'FR', 'FK', 'FRK']]\n",
    "dataTB = dataTB.iloc[:9]\n",
    "dataTB['Frekuensi'] = pd.Series([1, 1, 6, 14, 4, 5, 4 , 2, 1])\n",
    "dataTB['FR'] = round(dataTB['Frekuensi']/sum(dataTB['Frekuensi']) * 100, 2)\n",
    "dataTB['FK'] = pd.Series([1, 2, 8, 22, 26, 31, 35, 37, 38])\n",
    "dataTB['FRK'] = round(dataTB['FK']/sum(dataTB['Frekuensi']) * 100)\n",
    "dataTB['Batas kelas'] = pd.Series([148.5, 152.5, 156.5, 160.5, 164.5, 168.5, 172.5, 176.5, 180.5])\n",
    "dataTB\n"
   ]
  },
  {
   "cell_type": "code",
   "execution_count": 7,
   "metadata": {},
   "outputs": [
    {
     "data": {
      "image/png": "[encoded data removed]",
      "text/plain": [
       "<Figure size 432x288 with 1 Axes>"
      ]
     },
     "metadata": {
      "needs_background": "light"
     },
     "output_type": "display_data"
    }
   ],
   "source": [
    "x = dataTB['Batas kelas']\n",
    "y = dataTB['FK']\n",
    "plt.title('TB ortu kelas IF D')\n",
    "plt.xlabel('Batas kelas')\n",
    "plt.ylabel('Frekuensi meningkat')\n",
    "plt.plot(x,y, marker='o', linestyle='-')\n",
    "plt.show()"
   ]
  },
  {
   "cell_type": "markdown",
   "metadata": {},
   "source": [
    "<h1>BB</h1>"
   ]
  },
  {
   "cell_type": "code",
   "execution_count": 8,
   "metadata": {},
   "outputs": [
    {
     "name": "stdout",
     "output_type": "stream",
     "text": [
      "range =  35\n",
      "k =  12.732648602915065 ~ 13\n",
      "p =  2.7488389173001253 ~ 3\n"
     ]
    }
   ],
   "source": [
    "min = 50\n",
    "max = 85\n",
    "range = max - min\n",
    "k = 1 + 3.3 * math.log(range)\n",
    "p = range/k\n",
    "\n",
    "print(\"range = \", range)\n",
    "print(\"k = \", k,\"~\", round(k))\n",
    "print(\"p = \", p, \"~\", round(p))"
   ]
  },
  {
   "cell_type": "code",
   "execution_count": 9,
   "metadata": {},
   "outputs": [
    {
     "data": {
      "text/html": [
       "<div>\n",
       "<style scoped>\n",
       "    .dataframe tbody tr th:only-of-type {\n",
       "        vertical-align: middle;\n",
       "    }\n",
       "\n",
       "    .dataframe tbody tr th {\n",
       "        vertical-align: top;\n",
       "    }\n",
       "\n",
       "    .dataframe thead th {\n",
       "        text-align: right;\n",
       "    }\n",
       "</style>\n",
       "<table border=\"1\" class=\"dataframe\">\n",
       "  <thead>\n",
       "    <tr style=\"text-align: right;\">\n",
       "      <th></th>\n",
       "      <th>Berat Badan</th>\n",
       "      <th>Frekuensi</th>\n",
       "      <th>FR</th>\n",
       "      <th>FK</th>\n",
       "      <th>FRK</th>\n",
       "      <th>Batas kelas</th>\n",
       "    </tr>\n",
       "  </thead>\n",
       "  <tbody>\n",
       "    <tr>\n",
       "      <th>0</th>\n",
       "      <td>50-53</td>\n",
       "      <td>4</td>\n",
       "      <td>10.53</td>\n",
       "      <td>4</td>\n",
       "      <td>11.0</td>\n",
       "      <td>53.5</td>\n",
       "    </tr>\n",
       "    <tr>\n",
       "      <th>1</th>\n",
       "      <td>54-57</td>\n",
       "      <td>5</td>\n",
       "      <td>13.16</td>\n",
       "      <td>9</td>\n",
       "      <td>24.0</td>\n",
       "      <td>57.5</td>\n",
       "    </tr>\n",
       "    <tr>\n",
       "      <th>2</th>\n",
       "      <td>58-61</td>\n",
       "      <td>10</td>\n",
       "      <td>26.32</td>\n",
       "      <td>19</td>\n",
       "      <td>50.0</td>\n",
       "      <td>61.5</td>\n",
       "    </tr>\n",
       "    <tr>\n",
       "      <th>3</th>\n",
       "      <td>62-65</td>\n",
       "      <td>7</td>\n",
       "      <td>18.42</td>\n",
       "      <td>26</td>\n",
       "      <td>68.0</td>\n",
       "      <td>65.5</td>\n",
       "    </tr>\n",
       "    <tr>\n",
       "      <th>4</th>\n",
       "      <td>66-69</td>\n",
       "      <td>0</td>\n",
       "      <td>0.00</td>\n",
       "      <td>26</td>\n",
       "      <td>68.0</td>\n",
       "      <td>69.5</td>\n",
       "    </tr>\n",
       "    <tr>\n",
       "      <th>5</th>\n",
       "      <td>70-73</td>\n",
       "      <td>5</td>\n",
       "      <td>13.16</td>\n",
       "      <td>31</td>\n",
       "      <td>82.0</td>\n",
       "      <td>73.5</td>\n",
       "    </tr>\n",
       "    <tr>\n",
       "      <th>6</th>\n",
       "      <td>74-77</td>\n",
       "      <td>3</td>\n",
       "      <td>7.89</td>\n",
       "      <td>34</td>\n",
       "      <td>89.0</td>\n",
       "      <td>77.5</td>\n",
       "    </tr>\n",
       "    <tr>\n",
       "      <th>7</th>\n",
       "      <td>78-81</td>\n",
       "      <td>2</td>\n",
       "      <td>5.26</td>\n",
       "      <td>36</td>\n",
       "      <td>95.0</td>\n",
       "      <td>81.5</td>\n",
       "    </tr>\n",
       "    <tr>\n",
       "      <th>8</th>\n",
       "      <td>82-85</td>\n",
       "      <td>2</td>\n",
       "      <td>5.26</td>\n",
       "      <td>38</td>\n",
       "      <td>100.0</td>\n",
       "      <td>85.5</td>\n",
       "    </tr>\n",
       "  </tbody>\n",
       "</table>\n",
       "</div>"
      ],
      "text/plain": [
       "  Berat Badan  Frekuensi     FR  FK    FRK  Batas kelas\n",
       "0       50-53          4  10.53   4   11.0         53.5\n",
       "1       54-57          5  13.16   9   24.0         57.5\n",
       "2       58-61         10  26.32  19   50.0         61.5\n",
       "3       62-65          7  18.42  26   68.0         65.5\n",
       "4       66-69          0   0.00  26   68.0         69.5\n",
       "5       70-73          5  13.16  31   82.0         73.5\n",
       "6       74-77          3   7.89  34   89.0         77.5\n",
       "7       78-81          2   5.26  36   95.0         81.5\n",
       "8       82-85          2   5.26  38  100.0         85.5"
      ]
     },
     "execution_count": 9,
     "metadata": {},
     "output_type": "execute_result"
    }
   ],
   "source": [
    "dataBB = df[['Berat Badan', 'Frekuensi', 'FR', 'FK', 'FRK']]\n",
    "dataBB = dataBB.iloc[:9]\n",
    "dataBB['Frekuensi'] = pd.Series([4, 5, 10, 7, 0, 5, 3, 2, 2])\n",
    "dataBB['FR'] = round(dataBB['Frekuensi']/sum(dataBB['Frekuensi']) * 100, 2)\n",
    "dataBB['FK'] = pd.Series([4, 9, 19, 26, 26, 31, 34, 36, 38])\n",
    "dataBB['FRK'] = round(dataBB['FK']/sum(dataBB['Frekuensi']) * 100)\n",
    "dataBB['Batas kelas'] = pd.Series([53.5, 57.5, 61.5, 65.5, 69.5, 73.5, 77.5, 81.5, 85.5])\n",
    "dataBB\n"
   ]
  },
  {
   "cell_type": "code",
   "execution_count": 10,
   "metadata": {},
   "outputs": [
    {
     "data": {
      "image/png": "[encoded data removed]",
      "text/plain": [
       "<Figure size 432x288 with 1 Axes>"
      ]
     },
     "metadata": {
      "needs_background": "light"
     },
     "output_type": "display_data"
    }
   ],
   "source": [
    "x = dataBB['Batas kelas']\n",
    "y = dataBB['FK']\n",
    "plt.title('BB ortu kelas IF D')\n",
    "plt.xlabel('Batas kelas')\n",
    "plt.ylabel('Frekuensi meningkat')\n",
    "plt.plot(x,y, marker='o', linestyle='-')\n",
    "plt.show()"
   ]
  }
 ],
 "metadata": {
  "interpreter": {
   "hash": "63fd5069d213b44bf678585dea6b12cceca9941eaf7f819626cde1f2670de90d"
  },
  "kernelspec": {
   "display_name": "Python 3.9.1 64-bit",
   "language": "python",
   "name": "python3"
  },
  "language_info": {
   "codemirror_mode": {
    "name": "ipython",
    "version": 3
   },
   "file_extension": ".py",
   "mimetype": "text/x-python",
   "name": "python",
   "nbconvert_exporter": "python",
   "pygments_lexer": "ipython3",
   "version": "3.9.1"
  },
  "orig_nbformat": 4
 },
 "nbformat": 4,
 "nbformat_minor": 2
}
