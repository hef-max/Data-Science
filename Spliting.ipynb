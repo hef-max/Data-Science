{
  "cells": [
    {
      "cell_type": "code",
      "source": [
        "import pandas as pd\n",
        "\n",
        "developer = pd.DataFrame({\"Name\": [\"Isyana Saputri\", \"Nicholas Saputra\", \"Raisa Andrian\"], 'Age': [30, 36, 32]})\n",
        "print(\"Machine Learning Developer di Indonesia :\\n\", developer) "
      ],
      "metadata": {
        "id": "pox0pWj4zV19",
        "outputId": "e4a88769-337f-4749-9127-d77378bdc49a",
        "colab": {
          "base_uri": "https://localhost:8080/"
        }
      },
      "execution_count": 3,
      "outputs": [
        {
          "output_type": "stream",
          "name": "stdout",
          "text": [
            "Machine Learning Developer di Indonesia :\n",
            "                Name  Age\n",
            "0    Isyana Saputri   30\n",
            "1  Nicholas Saputra   36\n",
            "2     Raisa Andrian   32\n"
          ]
        }
      ]
    },
    {
      "cell_type": "markdown",
      "source": [
        "#Spliting"
      ],
      "metadata": {
        "id": "_b6Q-DG1z85Z"
      }
    },
    {
      "cell_type": "code",
      "source": [
        "developer[['first', 'last']] = developer.Name.str.split(expand=True)\n",
        "print(\"\\n Split kolom 'Name', lalu tambahkan kedua kolom : \\n\", developer)"
      ],
      "metadata": {
        "id": "0OXivPhhz8QB",
        "outputId": "0ed1f99a-19a0-48c7-bd7b-a2dafb9b9be6",
        "colab": {
          "base_uri": "https://localhost:8080/"
        }
      },
      "execution_count": 4,
      "outputs": [
        {
          "output_type": "stream",
          "name": "stdout",
          "text": [
            "\n",
            " Split kolom 'Name', lalu tambahkan kedua kolom : \n",
            "                Name  Age     first     last\n",
            "0    Isyana Saputri   30    Isyana  Saputri\n",
            "1  Nicholas Saputra   36  Nicholas  Saputra\n",
            "2     Raisa Andrian   32     Raisa  Andrian\n"
          ]
        }
      ]
    }
  ],
  "metadata": {
    "colab": {
      "collapsed_sections": [],
      "name": "Selamat Datang di Colaboratory",
      "toc_visible": true,
      "provenance": []
    },
    "kernelspec": {
      "display_name": "Python 3",
      "name": "python3"
    }
  },
  "nbformat": 4,
  "nbformat_minor": 0
}