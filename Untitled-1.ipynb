{
 "cells": [
  {
   "cell_type": "code",
   "execution_count": 10,
   "metadata": {},
   "outputs": [
    {
     "data": {
      "text/plain": [
       "['1', '1', '1', '1', '1', '1', NaN, '1', NaN, '1']\n",
       "Categories (1, object): ['1']"
      ]
     },
     "execution_count": 10,
     "metadata": {},
     "output_type": "execute_result"
    }
   ],
   "source": [
    "import pandas as pd\n",
    "\n",
    "angka = [1, 1, 2, 3, 3, 4, 5, 1, 5, 4]\n",
    "nilai = [1-1, 4]\n",
    "label = ['1']\n",
    "f = pd.cut(angka, nilai, labels=label)\n",
    "\n",
    "freq = []\n",
    "for x in f:\n",
    "    if x == '1':\n",
    "        freq.append(x)\n",
    "len(freq)\n",
    "\n",
    "\n",
    "# x = df[['Usia', 'TB', 'BB']]\n",
    "    \n",
    "# min = 145\n",
    "# max = 180\n",
    "# range = max - min\n",
    "# k = round(1 + 3.3 * math.log(range))\n",
    "# p = round(range/k)\n",
    "\n",
    "# nilai = [82-1, 85]\n",
    "# label = ['1']\n",
    "# f = pd.cut(x['BB'], nilai, labels=label)\n",
    "\n",
    "# freq = []\n",
    "# for x in f:\n",
    "#     if x == '1':\n",
    "#         freq.append(x)\n",
    "# len(freq)\n",
    "f"
   ]
  }
 ],
 "metadata": {
  "interpreter": {
   "hash": "63fd5069d213b44bf678585dea6b12cceca9941eaf7f819626cde1f2670de90d"
  },
  "kernelspec": {
   "display_name": "Python 3.9.1 64-bit",
   "language": "python",
   "name": "python3"
  },
  "language_info": {
   "codemirror_mode": {
    "name": "ipython",
    "version": 3
   },
   "file_extension": ".py",
   "mimetype": "text/x-python",
   "name": "python",
   "nbconvert_exporter": "python",
   "pygments_lexer": "ipython3",
   "version": "3.9.1"
  },
  "orig_nbformat": 4
 },
 "nbformat": 4,
 "nbformat_minor": 2
}
